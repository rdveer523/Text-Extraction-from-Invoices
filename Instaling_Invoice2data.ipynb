{
  "nbformat": 4,
  "nbformat_minor": 0,
  "metadata": {
    "colab": {
      "name": "Instaling_Invoice2data.ipynb",
      "provenance": [],
      "include_colab_link": true
    },
    "kernelspec": {
      "name": "python3",
      "display_name": "Python 3"
    }
  },
  "cells": [
    {
      "cell_type": "markdown",
      "metadata": {
        "id": "view-in-github",
        "colab_type": "text"
      },
      "source": [
        "<a href=\"https://colab.research.google.com/github/rveerag567/Text-Extraction-from-Invoices/blob/master/Instaling_Invoice2data.ipynb\" target=\"_parent\"><img src=\"https://colab.research.google.com/assets/colab-badge.svg\" alt=\"Open In Colab\"/></a>"
      ]
    },
    {
      "cell_type": "code",
      "metadata": {
        "id": "JKWlWe7ARgCX",
        "colab_type": "code",
        "outputId": "89c93816-450e-485d-ee04-5ff2cfbd36a9",
        "colab": {
          "base_uri": "https://localhost:8080/",
          "height": 34
        }
      },
      "source": [
        "#Instaling_Invoice2data\n",
        "\"\"\"\n",
        "pdftotext\n",
        "invoice2data\n",
        "apt-get install build-essential libpoppler-cpp-dev pkg-config python-dev\n",
        "xpdf_python\n",
        "python -m pip install pdfreader\n",
        "\"\"\""
      ],
      "execution_count": 0,
      "outputs": [
        {
          "output_type": "execute_result",
          "data": {
            "text/plain": [
              "'\\npdftotext\\ninvoice2data\\napt-get install build-essential libpoppler-cpp-dev pkg-config python-dev\\nxpdf_python\\npython -m pip install pdfreader\\n'"
            ]
          },
          "metadata": {
            "tags": []
          },
          "execution_count": 1
        }
      ]
    },
    {
      "cell_type": "code",
      "metadata": {
        "id": "CQc81PHvSAyr",
        "colab_type": "code",
        "outputId": "9e773a2f-2835-497d-dfc8-125ba8170254",
        "colab": {
          "base_uri": "https://localhost:8080/",
          "height": 578
        }
      },
      "source": [
        "!apt-get install build-essential libpoppler-cpp-dev pkg-config python-dev"
      ],
      "execution_count": 0,
      "outputs": [
        {
          "output_type": "stream",
          "text": [
            "Reading package lists... Done\n",
            "Building dependency tree       \n",
            "Reading state information... Done\n",
            "build-essential is already the newest version (12.4ubuntu1).\n",
            "pkg-config is already the newest version (0.29.1-0ubuntu2).\n",
            "python-dev is already the newest version (2.7.15~rc1-1).\n",
            "The following additional packages will be installed:\n",
            "  libpoppler-cpp0v5 libpoppler-dev\n",
            "The following NEW packages will be installed:\n",
            "  libpoppler-cpp-dev libpoppler-cpp0v5 libpoppler-dev\n",
            "0 upgraded, 3 newly installed, 0 to remove and 25 not upgraded.\n",
            "Need to get 41.3 kB of archives.\n",
            "After this operation, 233 kB of additional disk space will be used.\n",
            "Get:1 http://archive.ubuntu.com/ubuntu bionic-updates/main amd64 libpoppler-cpp0v5 amd64 0.62.0-2ubuntu2.10 [28.0 kB]\n",
            "Get:2 http://archive.ubuntu.com/ubuntu bionic-updates/main amd64 libpoppler-dev amd64 0.62.0-2ubuntu2.10 [4,608 B]\n",
            "Get:3 http://archive.ubuntu.com/ubuntu bionic-updates/main amd64 libpoppler-cpp-dev amd64 0.62.0-2ubuntu2.10 [8,684 B]\n",
            "Fetched 41.3 kB in 1s (29.0 kB/s)\n",
            "Selecting previously unselected package libpoppler-cpp0v5:amd64.\n",
            "(Reading database ... 144568 files and directories currently installed.)\n",
            "Preparing to unpack .../libpoppler-cpp0v5_0.62.0-2ubuntu2.10_amd64.deb ...\n",
            "Unpacking libpoppler-cpp0v5:amd64 (0.62.0-2ubuntu2.10) ...\n",
            "Selecting previously unselected package libpoppler-dev:amd64.\n",
            "Preparing to unpack .../libpoppler-dev_0.62.0-2ubuntu2.10_amd64.deb ...\n",
            "Unpacking libpoppler-dev:amd64 (0.62.0-2ubuntu2.10) ...\n",
            "Selecting previously unselected package libpoppler-cpp-dev:amd64.\n",
            "Preparing to unpack .../libpoppler-cpp-dev_0.62.0-2ubuntu2.10_amd64.deb ...\n",
            "Unpacking libpoppler-cpp-dev:amd64 (0.62.0-2ubuntu2.10) ...\n",
            "Setting up libpoppler-dev:amd64 (0.62.0-2ubuntu2.10) ...\n",
            "Setting up libpoppler-cpp0v5:amd64 (0.62.0-2ubuntu2.10) ...\n",
            "Setting up libpoppler-cpp-dev:amd64 (0.62.0-2ubuntu2.10) ...\n",
            "Processing triggers for libc-bin (2.27-3ubuntu1) ...\n",
            "/sbin/ldconfig.real: /usr/local/lib/python3.6/dist-packages/ideep4py/lib/libmkldnn.so.0 is not a symbolic link\n",
            "\n"
          ],
          "name": "stdout"
        }
      ]
    },
    {
      "cell_type": "code",
      "metadata": {
        "id": "OKkTWv6ZSSqe",
        "colab_type": "code",
        "outputId": "c23751fa-4ff7-4545-f75b-14be511ba2a8",
        "colab": {
          "base_uri": "https://localhost:8080/",
          "height": 170
        }
      },
      "source": [
        "!pip install pdftotext"
      ],
      "execution_count": 0,
      "outputs": [
        {
          "output_type": "stream",
          "text": [
            "Collecting pdftotext\n",
            "  Using cached https://files.pythonhosted.org/packages/58/38/f04c252f4cb2d10af9abcde0a2db1bcd38288a76a99e88333f2a434e0c40/pdftotext-2.1.4.tar.gz\n",
            "Building wheels for collected packages: pdftotext\n",
            "  Building wheel for pdftotext (setup.py) ... \u001b[?25l\u001b[?25hdone\n",
            "  Created wheel for pdftotext: filename=pdftotext-2.1.4-cp36-cp36m-linux_x86_64.whl size=54078 sha256=ab75b37ff3acfc2dd21ec799f9571a19f23e5d30f6f546dbcadc53dd7dd2642b\n",
            "  Stored in directory: /root/.cache/pip/wheels/88/c3/62/c1ef7f738f8c0c1ac67cbe63786cae734d555c5077088036f0\n",
            "Successfully built pdftotext\n",
            "Installing collected packages: pdftotext\n",
            "Successfully installed pdftotext-2.1.4\n"
          ],
          "name": "stdout"
        }
      ]
    },
    {
      "cell_type": "code",
      "metadata": {
        "id": "iMtholxRSaN5",
        "colab_type": "code",
        "colab": {}
      },
      "source": [
        ""
      ],
      "execution_count": 0,
      "outputs": []
    },
    {
      "cell_type": "code",
      "metadata": {
        "id": "RiaskMnXSfyK",
        "colab_type": "code",
        "outputId": "f38aeb7b-c470-4550-d1ee-22a144df96e7",
        "colab": {
          "base_uri": "https://localhost:8080/",
          "height": 425
        }
      },
      "source": [
        "!pip install invoice2data"
      ],
      "execution_count": 0,
      "outputs": [
        {
          "output_type": "stream",
          "text": [
            "Collecting invoice2data\n",
            "\u001b[?25l  Downloading https://files.pythonhosted.org/packages/92/5e/9a916a038e20efdbdc27d8a6171c009fafc81ad7f39672fe5dd9a48c4b77/invoice2data-0.3.5.tar.gz (758kB)\n",
            "\u001b[K     |████████████████████████████████| 768kB 1.4MB/s \n",
            "\u001b[?25hRequirement already satisfied: chardet in /usr/local/lib/python3.6/dist-packages (from invoice2data) (3.0.4)\n",
            "Requirement already satisfied: pillow in /usr/local/lib/python3.6/dist-packages (from invoice2data) (7.0.0)\n",
            "Requirement already satisfied: pyyaml in /usr/local/lib/python3.6/dist-packages (from invoice2data) (3.13)\n",
            "Collecting dateparser\n",
            "\u001b[?25l  Downloading https://files.pythonhosted.org/packages/ad/0c/aba72d8454c28ab3800f3efd1ab3fe4f3fa41eb2746adc0cdcb318200796/dateparser-0.7.4-py2.py3-none-any.whl (353kB)\n",
            "\u001b[K     |████████████████████████████████| 358kB 5.2MB/s \n",
            "\u001b[?25hCollecting unidecode\n",
            "\u001b[?25l  Downloading https://files.pythonhosted.org/packages/d0/42/d9edfed04228bacea2d824904cae367ee9efd05e6cce7ceaaedd0b0ad964/Unidecode-1.1.1-py2.py3-none-any.whl (238kB)\n",
            "\u001b[K     |████████████████████████████████| 245kB 7.3MB/s \n",
            "\u001b[?25hRequirement already satisfied: tzlocal in /usr/local/lib/python3.6/dist-packages (from dateparser->invoice2data) (1.5.1)\n",
            "Requirement already satisfied: pytz in /usr/local/lib/python3.6/dist-packages (from dateparser->invoice2data) (2018.9)\n",
            "Requirement already satisfied: regex!=2019.02.19 in /usr/local/lib/python3.6/dist-packages (from dateparser->invoice2data) (2019.12.20)\n",
            "Requirement already satisfied: python-dateutil in /usr/local/lib/python3.6/dist-packages (from dateparser->invoice2data) (2.8.1)\n",
            "Requirement already satisfied: six>=1.5 in /usr/local/lib/python3.6/dist-packages (from python-dateutil->dateparser->invoice2data) (1.12.0)\n",
            "Building wheels for collected packages: invoice2data\n",
            "  Building wheel for invoice2data (setup.py) ... \u001b[?25l\u001b[?25hdone\n",
            "  Created wheel for invoice2data: filename=invoice2data-0.3.5-cp36-none-any.whl size=79314 sha256=dd0a68c2712aaf7a54bbbb31c438cd95b11b53b836665f9791f9b773c7cac206\n",
            "  Stored in directory: /root/.cache/pip/wheels/62/83/84/836287bf842a3ee218e9e1551a3407df420d983c6d6975e2a8\n",
            "Successfully built invoice2data\n",
            "Installing collected packages: dateparser, unidecode, invoice2data\n",
            "Successfully installed dateparser-0.7.4 invoice2data-0.3.5 unidecode-1.1.1\n"
          ],
          "name": "stdout"
        }
      ]
    },
    {
      "cell_type": "code",
      "metadata": {
        "id": "28Im6KCZTUyq",
        "colab_type": "code",
        "outputId": "927dd53d-6f1a-4098-eb83-53a8683c07ed",
        "colab": {
          "base_uri": "https://localhost:8080/",
          "height": 901
        }
      },
      "source": [
        "!pip install xpdf_python"
      ],
      "execution_count": 0,
      "outputs": [
        {
          "output_type": "stream",
          "text": [
            "Collecting xpdf_python\n",
            "  Downloading https://files.pythonhosted.org/packages/60/dc/2fe816b1a8358850d5e70b6c82609713c9f50603b459b0166985e099d17b/xpdf_python-0.0.10.tar.gz\n",
            "Requirement already satisfied: sphinx in /usr/local/lib/python3.6/dist-packages (from xpdf_python) (1.8.5)\n",
            "Collecting sphinx_rtd_theme\n",
            "\u001b[?25l  Downloading https://files.pythonhosted.org/packages/60/b4/4df37087a1d36755e3a3bfd2a30263f358d2dea21938240fa02313d45f51/sphinx_rtd_theme-0.4.3-py2.py3-none-any.whl (6.4MB)\n",
            "\u001b[K     |████████████████████████████████| 6.4MB 1.4MB/s \n",
            "\u001b[?25hCollecting nose\n",
            "\u001b[?25l  Downloading https://files.pythonhosted.org/packages/15/d8/dd071918c040f50fa1cf80da16423af51ff8ce4a0f2399b7bf8de45ac3d9/nose-1.3.7-py3-none-any.whl (154kB)\n",
            "\u001b[K     |████████████████████████████████| 163kB 20.3MB/s \n",
            "\u001b[?25hRequirement already satisfied: coverage in /usr/local/lib/python3.6/dist-packages (from xpdf_python) (3.7.1)\n",
            "Collecting pypi-publisher\n",
            "  Downloading https://files.pythonhosted.org/packages/fb/54/20d4290b78ca3a8d291ad984c180a5edcf6bd66e08cbd431776da238ca3d/pypi-publisher-0.0.4.tar.gz\n",
            "Requirement already satisfied: Pygments>=2.0 in /usr/local/lib/python3.6/dist-packages (from sphinx->xpdf_python) (2.1.3)\n",
            "Requirement already satisfied: requests>=2.0.0 in /usr/local/lib/python3.6/dist-packages (from sphinx->xpdf_python) (2.21.0)\n",
            "Requirement already satisfied: setuptools in /usr/local/lib/python3.6/dist-packages (from sphinx->xpdf_python) (46.1.3)\n",
            "Requirement already satisfied: sphinxcontrib-websupport in /usr/local/lib/python3.6/dist-packages (from sphinx->xpdf_python) (1.2.1)\n",
            "Requirement already satisfied: Jinja2>=2.3 in /usr/local/lib/python3.6/dist-packages (from sphinx->xpdf_python) (2.11.1)\n",
            "Requirement already satisfied: packaging in /usr/local/lib/python3.6/dist-packages (from sphinx->xpdf_python) (20.3)\n",
            "Requirement already satisfied: alabaster<0.8,>=0.7 in /usr/local/lib/python3.6/dist-packages (from sphinx->xpdf_python) (0.7.12)\n",
            "Requirement already satisfied: six>=1.5 in /usr/local/lib/python3.6/dist-packages (from sphinx->xpdf_python) (1.12.0)\n",
            "Requirement already satisfied: snowballstemmer>=1.1 in /usr/local/lib/python3.6/dist-packages (from sphinx->xpdf_python) (2.0.0)\n",
            "Requirement already satisfied: babel!=2.0,>=1.3 in /usr/local/lib/python3.6/dist-packages (from sphinx->xpdf_python) (2.8.0)\n",
            "Requirement already satisfied: imagesize in /usr/local/lib/python3.6/dist-packages (from sphinx->xpdf_python) (1.2.0)\n",
            "Requirement already satisfied: docutils>=0.11 in /usr/local/lib/python3.6/dist-packages (from sphinx->xpdf_python) (0.15.2)\n",
            "Collecting gitpython==0.3.6\n",
            "\u001b[?25l  Downloading https://files.pythonhosted.org/packages/e9/d5/807cea9ffbfa398a23bbaff35d3fd37aa330c8c264c9489ed104b6192f74/GitPython-0.3.6.tar.gz (353kB)\n",
            "\u001b[K     |████████████████████████████████| 358kB 19.2MB/s \n",
            "\u001b[?25hRequirement already satisfied: urllib3<1.25,>=1.21.1 in /usr/local/lib/python3.6/dist-packages (from requests>=2.0.0->sphinx->xpdf_python) (1.24.3)\n",
            "Requirement already satisfied: certifi>=2017.4.17 in /usr/local/lib/python3.6/dist-packages (from requests>=2.0.0->sphinx->xpdf_python) (2020.4.5.1)\n",
            "Requirement already satisfied: chardet<3.1.0,>=3.0.2 in /usr/local/lib/python3.6/dist-packages (from requests>=2.0.0->sphinx->xpdf_python) (3.0.4)\n",
            "Requirement already satisfied: idna<2.9,>=2.5 in /usr/local/lib/python3.6/dist-packages (from requests>=2.0.0->sphinx->xpdf_python) (2.8)\n",
            "Requirement already satisfied: MarkupSafe>=0.23 in /usr/local/lib/python3.6/dist-packages (from Jinja2>=2.3->sphinx->xpdf_python) (1.1.1)\n",
            "Requirement already satisfied: pyparsing>=2.0.2 in /usr/local/lib/python3.6/dist-packages (from packaging->sphinx->xpdf_python) (2.4.7)\n",
            "Requirement already satisfied: pytz>=2015.7 in /usr/local/lib/python3.6/dist-packages (from babel!=2.0,>=1.3->sphinx->xpdf_python) (2018.9)\n",
            "Collecting gitdb>=0.6.4\n",
            "\u001b[?25l  Downloading https://files.pythonhosted.org/packages/1e/f5/8f84b3bf9d94bdf2454a302f2fa375832b53660ea532586b8a55ff16ae9a/gitdb-4.0.2-py3-none-any.whl (63kB)\n",
            "\u001b[K     |████████████████████████████████| 71kB 9.6MB/s \n",
            "\u001b[?25hCollecting smmap<4,>=3.0.1\n",
            "  Downloading https://files.pythonhosted.org/packages/35/d2/27777ab463cd44842c78305fa8097dfba0d94768abbb7e1c4d88f1fa1a0b/smmap-3.0.1-py2.py3-none-any.whl\n",
            "Building wheels for collected packages: xpdf-python, pypi-publisher, gitpython\n",
            "  Building wheel for xpdf-python (setup.py) ... \u001b[?25l\u001b[?25hdone\n",
            "  Created wheel for xpdf-python: filename=xpdf_python-0.0.10-py2.py3-none-any.whl size=3702 sha256=d101390d17060a383f1f7713259a1ab6d19c69a9d646b1531518db2573d5ca4f\n",
            "  Stored in directory: /root/.cache/pip/wheels/7b/6a/9b/3b6e9c1260fc093f3e7a41f715d49ffdba4fd0c0188606775d\n",
            "  Building wheel for pypi-publisher (setup.py) ... \u001b[?25l\u001b[?25hdone\n",
            "  Created wheel for pypi-publisher: filename=pypi_publisher-0.0.4-py2.py3-none-any.whl size=6638 sha256=21db639b80968294d78cfa4e015cc2fc9cdd102265c7779d9478896ff231397c\n",
            "  Stored in directory: /root/.cache/pip/wheels/4f/ce/2c/12db89fa56f78dbed6c4dedd5fd8e4d8334bfb56952c1db505\n",
            "  Building wheel for gitpython (setup.py) ... \u001b[?25l\u001b[?25hdone\n",
            "  Created wheel for gitpython: filename=GitPython-0.3.6-cp36-none-any.whl size=388104 sha256=20b45588bcc0c307d2a150ef866dec55cce4d33b22f7eaef1be2e4549ce55139\n",
            "  Stored in directory: /root/.cache/pip/wheels/a0/f9/86/86f71d7f28712562519932887ee0965eeaa6e05d0b045eec20\n",
            "Successfully built xpdf-python pypi-publisher gitpython\n",
            "Installing collected packages: sphinx-rtd-theme, nose, smmap, gitdb, gitpython, pypi-publisher, xpdf-python\n",
            "Successfully installed gitdb-4.0.2 gitpython-0.3.6 nose-1.3.7 pypi-publisher-0.0.4 smmap-3.0.1 sphinx-rtd-theme-0.4.3 xpdf-python-0.0.10\n"
          ],
          "name": "stdout"
        }
      ]
    },
    {
      "cell_type": "code",
      "metadata": {
        "id": "JnwDuxzPTbxP",
        "colab_type": "code",
        "outputId": "04e6a506-7418-449a-b79d-9693a576cbdb",
        "colab": {
          "base_uri": "https://localhost:8080/",
          "height": 306
        }
      },
      "source": [
        "!pip install pdfreader"
      ],
      "execution_count": 0,
      "outputs": [
        {
          "output_type": "stream",
          "text": [
            "Collecting pdfreader\n",
            "\u001b[?25l  Downloading https://files.pythonhosted.org/packages/0c/95/93d19d53f33e1c41fc325876683f818e298e201385bbf178119f66b0445a/pdfreader-0.1.4.tar.gz (2.6MB)\n",
            "\u001b[K     |████████████████████████████████| 2.6MB 1.4MB/s \n",
            "\u001b[?25hCollecting bitarray>=1.1.0\n",
            "\u001b[?25l  Downloading https://files.pythonhosted.org/packages/3d/78/99528059e42f199910df89bd0ad8d9238f41d0499b506e0b3174340075ea/bitarray-1.2.1.tar.gz (48kB)\n",
            "\u001b[K     |████████████████████████████████| 51kB 6.4MB/s \n",
            "\u001b[?25hRequirement already satisfied: pillow>6.2.0 in /usr/local/lib/python3.6/dist-packages (from pdfreader) (7.0.0)\n",
            "Building wheels for collected packages: pdfreader, bitarray\n",
            "  Building wheel for pdfreader (setup.py) ... \u001b[?25l\u001b[?25hdone\n",
            "  Created wheel for pdfreader: filename=pdfreader-0.1.4-cp36-none-any.whl size=98994 sha256=39809dece8dfa8d729f5c9bf1ee1426d68afc347e8ef18cf0de425a98ea62f75\n",
            "  Stored in directory: /root/.cache/pip/wheels/2d/ed/08/cb31c6adf2961936ba1433706c4e4b55cc430554fa16374406\n",
            "  Building wheel for bitarray (setup.py) ... \u001b[?25l\u001b[?25hdone\n",
            "  Created wheel for bitarray: filename=bitarray-1.2.1-cp36-cp36m-linux_x86_64.whl size=105052 sha256=f49851d217d767b4d8917c2b12130cbc35e83bff4c1d39a44577fc8dd4c759d5\n",
            "  Stored in directory: /root/.cache/pip/wheels/8e/4f/42/90d76aca9f4a7420c8c82fe15ed949777ab3fafe9fc1d705b3\n",
            "Successfully built pdfreader bitarray\n",
            "Installing collected packages: bitarray, pdfreader\n",
            "Successfully installed bitarray-1.2.1 pdfreader-0.1.4\n"
          ],
          "name": "stdout"
        }
      ]
    },
    {
      "cell_type": "code",
      "metadata": {
        "id": "iW2A5Do4TkAm",
        "colab_type": "code",
        "colab": {}
      },
      "source": [
        ""
      ],
      "execution_count": 0,
      "outputs": []
    },
    {
      "cell_type": "code",
      "metadata": {
        "id": "z3p-ukEpU7HK",
        "colab_type": "code",
        "outputId": "bbb77c78-7cfc-40d8-947b-10dba3d52acf",
        "colab": {
          "base_uri": "https://localhost:8080/",
          "height": 187
        }
      },
      "source": [
        "!pip install PyPDF2"
      ],
      "execution_count": 0,
      "outputs": [
        {
          "output_type": "stream",
          "text": [
            "Collecting PyPDF2\n",
            "\u001b[?25l  Downloading https://files.pythonhosted.org/packages/b4/01/68fcc0d43daf4c6bdbc6b33cc3f77bda531c86b174cac56ef0ffdb96faab/PyPDF2-1.26.0.tar.gz (77kB)\n",
            "\r\u001b[K     |████▎                           | 10kB 18.7MB/s eta 0:00:01\r\u001b[K     |████████▌                       | 20kB 842kB/s eta 0:00:01\r\u001b[K     |████████████▊                   | 30kB 1.1MB/s eta 0:00:01\r\u001b[K     |█████████████████               | 40kB 1.3MB/s eta 0:00:01\r\u001b[K     |█████████████████████▏          | 51kB 990kB/s eta 0:00:01\r\u001b[K     |█████████████████████████▍      | 61kB 1.1MB/s eta 0:00:01\r\u001b[K     |█████████████████████████████▋  | 71kB 1.2MB/s eta 0:00:01\r\u001b[K     |████████████████████████████████| 81kB 1.2MB/s \n",
            "\u001b[?25hBuilding wheels for collected packages: PyPDF2\n",
            "  Building wheel for PyPDF2 (setup.py) ... \u001b[?25l\u001b[?25hdone\n",
            "  Created wheel for PyPDF2: filename=PyPDF2-1.26.0-cp36-none-any.whl size=61086 sha256=e65490c017de844e2fa6968207373bf7bbb5a617b8f9bd648b9b61ffa57e1176\n",
            "  Stored in directory: /root/.cache/pip/wheels/53/84/19/35bc977c8bf5f0c23a8a011aa958acd4da4bbd7a229315c1b7\n",
            "Successfully built PyPDF2\n",
            "Installing collected packages: PyPDF2\n",
            "Successfully installed PyPDF2-1.26.0\n"
          ],
          "name": "stdout"
        }
      ]
    },
    {
      "cell_type": "code",
      "metadata": {
        "id": "UkCgZZUKVA64",
        "colab_type": "code",
        "outputId": "3b2124e5-5a5c-41a4-85f3-a322f0d16cc7",
        "colab": {
          "base_uri": "https://localhost:8080/",
          "height": 476
        }
      },
      "source": [
        "!pip install pdfplumber"
      ],
      "execution_count": 0,
      "outputs": [
        {
          "output_type": "stream",
          "text": [
            "Collecting pdfplumber\n",
            "  Downloading https://files.pythonhosted.org/packages/22/cf/848211677d41fe985fcca61befcdc19402826af65cfdbb543676e40cfca5/pdfplumber-0.5.18.tar.gz\n",
            "Requirement already satisfied: chardet in /usr/local/lib/python3.6/dist-packages (from pdfplumber) (3.0.4)\n",
            "Collecting pycryptodome\n",
            "\u001b[?25l  Downloading https://files.pythonhosted.org/packages/af/16/da16a22d47bac9bf9db39f3b9af74e8eeed8855c0df96be20b580ef92fff/pycryptodome-3.9.7-cp36-cp36m-manylinux1_x86_64.whl (13.7MB)\n",
            "\u001b[K     |████████████████████████████████| 13.7MB 316kB/s \n",
            "\u001b[?25hCollecting unicodecsv>=0.14.1\n",
            "  Downloading https://files.pythonhosted.org/packages/6f/a4/691ab63b17505a26096608cc309960b5a6bdf39e4ba1a793d5f9b1a53270/unicodecsv-0.14.1.tar.gz\n",
            "Collecting pdfminer.six==20200104\n",
            "\u001b[?25l  Downloading https://files.pythonhosted.org/packages/22/bb/d38a297068723409193296f056c63fcefe6a8a784049b34bbdbf559b5118/pdfminer.six-20200104-py3-none-any.whl (5.6MB)\n",
            "\u001b[K     |████████████████████████████████| 5.6MB 21.4MB/s \n",
            "\u001b[?25hRequirement already satisfied: six in /usr/local/lib/python3.6/dist-packages (from pdfplumber) (1.12.0)\n",
            "Requirement already satisfied: pillow>=7.0.0 in /usr/local/lib/python3.6/dist-packages (from pdfplumber) (7.0.0)\n",
            "Collecting wand\n",
            "\u001b[?25l  Downloading https://files.pythonhosted.org/packages/2e/06/5845baa21b3190248d571400cdeeb2de84f3c8757b2046c5ee1eadf59d7a/Wand-0.5.9-py2.py3-none-any.whl (129kB)\n",
            "\u001b[K     |████████████████████████████████| 133kB 57.2MB/s \n",
            "\u001b[?25hRequirement already satisfied: sortedcontainers in /usr/local/lib/python3.6/dist-packages (from pdfminer.six==20200104->pdfplumber) (2.1.0)\n",
            "Building wheels for collected packages: pdfplumber, unicodecsv\n",
            "  Building wheel for pdfplumber (setup.py) ... \u001b[?25l\u001b[?25hdone\n",
            "  Created wheel for pdfplumber: filename=pdfplumber-0.5.18-cp36-none-any.whl size=30754 sha256=f2245bd4a67206d31d4ee1493be8f90518f305c25bde1e7c64a9f7cf96d4a8b1\n",
            "  Stored in directory: /root/.cache/pip/wheels/3a/8c/7a/16c1cb9b43fe8f2fa123ca8ffdd82ccc511974054eeb5ab635\n",
            "  Building wheel for unicodecsv (setup.py) ... \u001b[?25l\u001b[?25hdone\n",
            "  Created wheel for unicodecsv: filename=unicodecsv-0.14.1-cp36-none-any.whl size=10768 sha256=085391892260a2217949427a146b92f10123d865d23b8857f1ab2ebbce5d75c8\n",
            "  Stored in directory: /root/.cache/pip/wheels/a6/09/e9/e800279c98a0a8c94543f3de6c8a562f60e51363ed26e71283\n",
            "Successfully built pdfplumber unicodecsv\n",
            "Installing collected packages: pycryptodome, unicodecsv, pdfminer.six, wand, pdfplumber\n",
            "Successfully installed pdfminer.six-20200104 pdfplumber-0.5.18 pycryptodome-3.9.7 unicodecsv-0.14.1 wand-0.5.9\n"
          ],
          "name": "stdout"
        }
      ]
    },
    {
      "cell_type": "code",
      "metadata": {
        "id": "XpLxW5yqVG6M",
        "colab_type": "code",
        "outputId": "b460f92b-6e4e-4310-9748-52d70d3279c2",
        "colab": {
          "base_uri": "https://localhost:8080/",
          "height": 146
        }
      },
      "source": [
        "import re\n",
        "# for pdf \n",
        "import PyPDF2 as pp2\n",
        "# requests library to access the information from the internet (downloading file or access file) and or outer source as well\n",
        "import requests\n",
        "# pdfplumber is use to extract the date from pdf file\n",
        "import pdfplumber\n",
        "\n",
        "import pandas as pd\n",
        "from collections import namedtuple\n",
        "\n",
        "import pdftotext as ptt\n",
        "import invoice2data as i2d\n",
        "import xpdf_python as xpp\n",
        "import pdfreader as pdr"
      ],
      "execution_count": 0,
      "outputs": [
        {
          "output_type": "error",
          "ename": "SystemExit",
          "evalue": "ignored",
          "traceback": [
            "An exception has occurred, use %tb to see the full traceback.\n",
            "\u001b[0;31mSystemExit\u001b[0m\u001b[0;31m:\u001b[0m Did not detect correctly installed xpdf. Please follow install instructions at: https://github.com/ecatkins/xpdf_python.\n"
          ]
        },
        {
          "output_type": "stream",
          "text": [
            "/usr/local/lib/python3.6/dist-packages/IPython/core/interactiveshell.py:2890: UserWarning: To exit: use 'exit', 'quit', or Ctrl-D.\n",
            "  warn(\"To exit: use 'exit', 'quit', or Ctrl-D.\", stacklevel=1)\n"
          ],
          "name": "stderr"
        }
      ]
    },
    {
      "cell_type": "code",
      "metadata": {
        "id": "PJlrfFm-VNsV",
        "colab_type": "code",
        "colab": {}
      },
      "source": [
        ""
      ],
      "execution_count": 0,
      "outputs": []
    }
  ]
}