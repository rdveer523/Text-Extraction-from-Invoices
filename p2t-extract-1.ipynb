{
 "cells": [
  {
   "cell_type": "markdown",
   "metadata": {},
   "source": [
    "20200403 - P2T\n",
    "- Started @ 0155\n",
    "- completed @ 1242\n",
    "### PDF-2-Text"
   ]
  },
  {
   "cell_type": "code",
   "execution_count": 1,
   "metadata": {},
   "outputs": [],
   "source": [
    "import requests\n",
    "import pdfplumber\n",
    "import PyPDF2 as pp2\n",
    "#import webbrowser"
   ]
  },
  {
   "cell_type": "code",
   "execution_count": 2,
   "metadata": {},
   "outputs": [],
   "source": [
    "def download_file(p2):\n",
    "    local_filename = p2.split('/')[-1]\n",
    "    \n",
    "    with requests.get(p2) as r:\n",
    "        with open(local_filename, 'rb') as f:\n",
    "            f.write(r.content)\n",
    "        \n",
    "    return local_filename\n",
    "\n",
    "p1 = r\"E:\\Storage---New\\___JaiSreeSeethaRama\\1-fiverr_WORK\\1-sri_work_code\\Invoice.pdf\"\n",
    "p2 = p1.replace('\\\\','/')"
   ]
  },
  {
   "cell_type": "code",
   "execution_count": 3,
   "metadata": {},
   "outputs": [],
   "source": [
    "#invoice_url = 'http://www.k-billing.com/example_invoices/professionalblue_example.pdf'\n",
    "#invoice = download_file(invoice_url)"
   ]
  },
  {
   "cell_type": "code",
   "execution_count": 4,
   "metadata": {},
   "outputs": [],
   "source": [
    "with pdfplumber.open(p2) as pdf:\n",
    "    page = pdf.pages[0]\n",
    "    text = page.extract_text()"
   ]
  },
  {
   "cell_type": "code",
   "execution_count": 5,
   "metadata": {},
   "outputs": [
    {
     "name": "stdout",
     "output_type": "stream",
     "text": [
      "INVOICE\n",
      "Invoice No. I1083\n",
      "Account # C1006\n",
      "Date 08-14-2008\n",
      "Due By 08-31-2008\n",
      "Demo Company\n",
      "Phone : 111-222-3333 Terms None\n",
      "1234 Main Street E-Mail : 333-444-4444 PO No. PO1234\n",
      "Ashland, KY 41102 Web : ht\n"
     ]
    }
   ],
   "source": [
    "print(text[:200])"
   ]
  },
  {
   "cell_type": "code",
   "execution_count": 6,
   "metadata": {},
   "outputs": [],
   "source": [
    "for row in text.split('\\n'):\n",
    "    if row.startswith('Balance Due'):\n",
    "        balance = row.split()[-1]"
   ]
  },
  {
   "cell_type": "code",
   "execution_count": 7,
   "metadata": {},
   "outputs": [
    {
     "data": {
      "text/plain": [
       "'$170.78'"
      ]
     },
     "execution_count": 7,
     "metadata": {},
     "output_type": "execute_result"
    }
   ],
   "source": [
    "balance"
   ]
  },
  {
   "cell_type": "code",
   "execution_count": null,
   "metadata": {},
   "outputs": [],
   "source": []
  },
  {
   "cell_type": "code",
   "execution_count": null,
   "metadata": {},
   "outputs": [],
   "source": []
  }
 ],
 "metadata": {
  "kernelspec": {
   "display_name": "Python 3",
   "language": "python",
   "name": "python3"
  },
  "language_info": {
   "codemirror_mode": {
    "name": "ipython",
    "version": 3
   },
   "file_extension": ".py",
   "mimetype": "text/x-python",
   "name": "python",
   "nbconvert_exporter": "python",
   "pygments_lexer": "ipython3",
   "version": "3.7.7"
  }
 },
 "nbformat": 4,
 "nbformat_minor": 2
}
